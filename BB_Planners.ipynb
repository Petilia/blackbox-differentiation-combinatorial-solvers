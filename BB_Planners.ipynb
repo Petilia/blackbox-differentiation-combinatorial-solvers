{
  "cells": [
    {
      "cell_type": "markdown",
      "metadata": {
        "id": "lR5QCZuhKVoz"
      },
      "source": [
        "# Prepare"
      ]
    },
    {
      "cell_type": "markdown",
      "metadata": {
        "id": "iz8E6bNiKJN7"
      },
      "source": [
        "Install"
      ]
    },
    {
      "cell_type": "code",
      "execution_count": 1,
      "metadata": {
        "id": "3baHsi0M2Y1H"
      },
      "outputs": [],
      "source": [
        "# !unzip blackbox.zip\n",
        "# %cd blackbox\n",
        "# !pip install -r requirements.txt\n",
        "# !pip install grpcio==1.42.0\n",
        "# !pip install tensorboard==1.12\n",
        "\n",
        "# !pip install --upgrade matplotlib\n",
        "# !pip install basemap\n",
        "# !pip install wandb==0.15.0\n",
        "\n",
        "# !pip uninstall protobuf\n",
        "# !pip install protobuf==3.19.6"
      ]
    },
    {
      "cell_type": "markdown",
      "metadata": {
        "id": "suVXBR8WJ88q"
      },
      "source": [
        "Download Data"
      ]
    },
    {
      "cell_type": "code",
      "execution_count": 2,
      "metadata": {
        "id": "wmvn5KUY0ZQZ"
      },
      "outputs": [],
      "source": [
        "# %cd data\n",
        "# !gdown 1_q4qScXJg19BpXiOpKLgKamw0JuH2BN7\n",
        "# !tar -xf warcraft_maps.tar.gz\n",
        "# !mv warcraft_shortest_path_oneskin warcraft_shortest_path\n",
        "# %cd .."
      ]
    },
    {
      "cell_type": "markdown",
      "metadata": {
        "id": "tpTky0fGKYZW"
      },
      "source": [
        "# Train"
      ]
    },
    {
      "cell_type": "markdown",
      "metadata": {
        "id": "F_h9OtQgyU9T"
      },
      "source": [
        "Run Warcraft shortest path experiment with gradients through Dijkstra:"
      ]
    },
    {
      "cell_type": "code",
      "execution_count": 3,
      "metadata": {},
      "outputs": [
        {
          "name": "stdout",
          "output_type": "stream",
          "text": [
            "/home/doctor/Desktop/Studying/Heuristics/blackbox\n"
          ]
        }
      ],
      "source": [
        "%cd blackbox"
      ]
    },
    {
      "cell_type": "code",
      "execution_count": 4,
      "metadata": {
        "colab": {
          "base_uri": "https://localhost:8080/"
        },
        "id": "l5_APuJoyQZk",
        "outputId": "ff297028-9e57-4844-9629-61e19bbc7e2a"
      },
      "outputs": [],
      "source": [
        "# !python main.py settings/warcraft_shortest_path/12x12_combresnet.json"
      ]
    },
    {
      "cell_type": "code",
      "execution_count": 5,
      "metadata": {},
      "outputs": [],
      "source": [
        "# !python main.py settings/warcraft_shortest_path/18x18_combresnet.json"
      ]
    },
    {
      "cell_type": "code",
      "execution_count": 6,
      "metadata": {},
      "outputs": [],
      "source": [
        "# import wandb"
      ]
    },
    {
      "cell_type": "code",
      "execution_count": 7,
      "metadata": {},
      "outputs": [],
      "source": [
        "# wandb.login(relogin=True)\n",
        "# wandb.login()"
      ]
    },
    {
      "cell_type": "code",
      "execution_count": 8,
      "metadata": {},
      "outputs": [],
      "source": [
        "# wandb.init(project=\"Plan_Proj\")\n",
        "# wandb.tensorboard.patch(root_logdir=\"/home/doctor/Desktop/Studying/Heuristics/blackbox/results/warcraft_shortest_path_combresnet_24_24\")\n",
        "\n",
        "# !python main.py settings/warcraft_shortest_path/24x24_combresnet.json\n",
        "\n",
        "# wandb.finish()"
      ]
    },
    {
      "cell_type": "code",
      "execution_count": 9,
      "metadata": {},
      "outputs": [],
      "source": [
        "# import wandb"
      ]
    },
    {
      "cell_type": "code",
      "execution_count": 10,
      "metadata": {},
      "outputs": [],
      "source": [
        "# wandb.tensorboard.patch(root_logdir=\"/home/doctor/Desktop/Studying/Heuristics/blackbox/results\", )\n",
        "# wandb.init(sync_tensorboard=True)\n",
        "# wandb.finish()"
      ]
    },
    {
      "cell_type": "code",
      "execution_count": 11,
      "metadata": {},
      "outputs": [],
      "source": [
        "# %load_ext tensorboard"
      ]
    },
    {
      "cell_type": "markdown",
      "metadata": {
        "id": "fM8Hmm86yWl2"
      },
      "source": [
        "Run Warcraft shortest path baseline ResNet18 experiment:"
      ]
    },
    {
      "cell_type": "code",
      "execution_count": 16,
      "metadata": {},
      "outputs": [],
      "source": [
        "# !pip install protobuf==3.19.6"
      ]
    },
    {
      "cell_type": "code",
      "execution_count": 17,
      "metadata": {
        "colab": {
          "base_uri": "https://localhost:8080/"
        },
        "id": "xKclwFYNyY39",
        "outputId": "c91c4776-6c27-4634-ea18-df759c91df6d"
      },
      "outputs": [
        {
          "name": "stdout",
          "output_type": "stream",
          "text": [
            "{\n",
            "    \"evaluate_every\": 10,\n",
            "    \"loader_params\": {\n",
            "        \"data_dir\": \"data/warcraft_shortest_path/12x12\",\n",
            "        \"evaluate_with_extra\": false,\n",
            "        \"normalize\": true,\n",
            "        \"use_local_path\": false,\n",
            "        \"use_test_set\": true\n",
            "    },\n",
            "    \"model_dir\": \"results/warcraft_shortest_path_baseline\",\n",
            "    \"num_cpus\": 1,\n",
            "    \"num_epochs\": 30,\n",
            "    \"problem_type\": \"warcraft_shortest_path\",\n",
            "    \"ray_params\": {},\n",
            "    \"save_visualizations\": false,\n",
            "    \"seed\": 1,\n",
            "    \"trainer_name\": \"Baseline\",\n",
            "    \"trainer_params\": {\n",
            "        \"batch_size\": 70,\n",
            "        \"lr_milestone_1\": 100,\n",
            "        \"lr_milestone_2\": 130,\n",
            "        \"model_params\": {\n",
            "            \"arch_params\": {},\n",
            "            \"model_name\": \"ResNet18\"\n",
            "        },\n",
            "        \"neighbourhood_fn\": \"8-grid\",\n",
            "        \"optimizer_name\": \"Adam\",\n",
            "        \"optimizer_params\": {\n",
            "            \"lr\": 0.0005\n",
            "        },\n",
            "        \"preload_batch\": true,\n",
            "        \"use_cuda\": true,\n",
            "        \"use_lr_scheduling\": false\n",
            "    },\n",
            "    \"use_ray\": true\n",
            "}\n",
            "True\n",
            "True\n",
            "True\n",
            "True\n",
            "{'loss': 1.0222630739212035, 'accuracy': 0.48182464092969896, 'perfect_match_accuracy': 0.0, 'cost_ratio_suggested_true': 15.776793241500854, 'below_10.0_percent_acc': 0.0, 'below_1.0_percent_acc': 0.0, 'below_0.1_percent_acc': 0.0, 'below_0.01_percent_acc': 0.0, 'below_0.001_percent_acc': 0.0, 'below_0.0001_percent_acc': 0.0, 'valid_acc': 0.138}\n",
            "Epoch: 1\tBatch time (0.139550)\tData time (0.003501)\tCuda time (0.000001)\tLoss (0.233617)\tAccuracy (0.318080)\n",
            "Epoch: 2\tBatch time (0.135802)\tData time (0.003450)\tCuda time (0.000001)\tLoss (0.164405)\tAccuracy (0.487131)\n",
            "Epoch: 3\tBatch time (0.135559)\tData time (0.003417)\tCuda time (0.000001)\tLoss (0.132132)\tAccuracy (0.617983)\n",
            "Epoch: 4\tBatch time (0.135156)\tData time (0.003589)\tCuda time (0.000001)\tLoss (0.107415)\tAccuracy (0.704727)\n",
            "Epoch: 5\tBatch time (0.135792)\tData time (0.003705)\tCuda time (0.000001)\tLoss (0.087018)\tAccuracy (0.770769)\n",
            "Epoch: 6\tBatch time (0.135336)\tData time (0.003672)\tCuda time (0.000001)\tLoss (0.069965)\tAccuracy (0.825281)\n",
            "Epoch: 7\tBatch time (0.135868)\tData time (0.003559)\tCuda time (0.000001)\tLoss (0.053911)\tAccuracy (0.871795)\n",
            "Epoch: 8\tBatch time (0.135780)\tData time (0.003447)\tCuda time (0.000001)\tLoss (0.041949)\tAccuracy (0.906019)\n",
            "Epoch: 9\tBatch time (0.140663)\tData time (0.003705)\tCuda time (0.000001)\tLoss (0.035597)\tAccuracy (0.923868)\n",
            "Epoch: 10\tBatch time (0.143480)\tData time (0.003542)\tCuda time (0.000001)\tLoss (0.023919)\tAccuracy (0.954912)\n",
            "True\n",
            "True\n",
            "True\n",
            "True\n",
            "{'loss': 0.08612571641802788, 'accuracy': 0.8268017566204071, 'perfect_match_accuracy': 0.212, 'cost_ratio_suggested_true': 1.0178466045856476, 'below_10.0_percent_acc': 0.337, 'below_1.0_percent_acc': 0.241, 'below_0.1_percent_acc': 0.237, 'below_0.01_percent_acc': 0.237, 'below_0.001_percent_acc': 0.233, 'below_0.0001_percent_acc': 0.233, 'valid_acc': 0.397}\n",
            "Epoch: 11\tBatch time (0.139539)\tData time (0.003649)\tCuda time (0.000001)\tLoss (0.016538)\tAccuracy (0.972589)\n",
            "Epoch: 12\tBatch time (0.150409)\tData time (0.003648)\tCuda time (0.000001)\tLoss (0.012695)\tAccuracy (0.981160)\n",
            "Epoch: 13\tBatch time (0.147025)\tData time (0.003624)\tCuda time (0.000001)\tLoss (0.009616)\tAccuracy (0.987498)\n",
            "Epoch: 14\tBatch time (0.143985)\tData time (0.003565)\tCuda time (0.000001)\tLoss (0.007774)\tAccuracy (0.990719)\n",
            "Epoch: 15\tBatch time (0.152204)\tData time (0.003713)\tCuda time (0.000001)\tLoss (0.005894)\tAccuracy (0.993977)\n",
            "Epoch: 16\tBatch time (0.144148)\tData time (0.003618)\tCuda time (0.000001)\tLoss (0.004652)\tAccuracy (0.995795)\n",
            "Epoch: 17\tBatch time (0.148197)\tData time (0.003606)\tCuda time (0.000001)\tLoss (0.005320)\tAccuracy (0.994187)\n",
            "Epoch: 18\tBatch time (0.143653)\tData time (0.003567)\tCuda time (0.000001)\tLoss (0.021069)\tAccuracy (0.959932)\n",
            "Epoch: 19\tBatch time (0.146911)\tData time (0.003620)\tCuda time (0.000001)\tLoss (0.025682)\tAccuracy (0.949574)\n",
            "Epoch: 20\tBatch time (0.151729)\tData time (0.003788)\tCuda time (0.000001)\tLoss (0.008529)\tAccuracy (0.987368)\n",
            "True\n",
            "True\n",
            "True\n",
            "True\n",
            "{'loss': 0.08074647050350904, 'accuracy': 0.8642961317300797, 'perfect_match_accuracy': 0.341, 'cost_ratio_suggested_true': 1.0214704489707946, 'below_10.0_percent_acc': 0.458, 'below_1.0_percent_acc': 0.363, 'below_0.1_percent_acc': 0.36, 'below_0.01_percent_acc': 0.36, 'below_0.001_percent_acc': 0.357, 'below_0.0001_percent_acc': 0.357, 'valid_acc': 0.495}\n",
            "Epoch: 21\tBatch time (0.146658)\tData time (0.003948)\tCuda time (0.000001)\tLoss (0.003042)\tAccuracy (0.997928)\n",
            "Epoch: 22\tBatch time (0.147452)\tData time (0.003520)\tCuda time (0.000001)\tLoss (0.001635)\tAccuracy (0.999602)\n",
            "Epoch: 23\tBatch time (0.138483)\tData time (0.003119)\tCuda time (0.000001)\tLoss (0.001137)\tAccuracy (0.999834)\n",
            "Epoch: 24\tBatch time (0.140379)\tData time (0.003142)\tCuda time (0.000001)\tLoss (0.000882)\tAccuracy (0.999936)\n",
            "Epoch: 25\tBatch time (0.149161)\tData time (0.003556)\tCuda time (0.000001)\tLoss (0.000761)\tAccuracy (0.999897)\n",
            "Epoch: 26\tBatch time (0.138204)\tData time (0.003506)\tCuda time (0.000001)\tLoss (0.000676)\tAccuracy (0.999929)\n",
            "Epoch: 27\tBatch time (0.148803)\tData time (0.003535)\tCuda time (0.000001)\tLoss (0.000557)\tAccuracy (0.999987)\n",
            "Epoch: 28\tBatch time (0.135390)\tData time (0.003116)\tCuda time (0.000001)\tLoss (0.000466)\tAccuracy (0.999981)\n",
            "Epoch: 29\tBatch time (0.143089)\tData time (0.003141)\tCuda time (0.000001)\tLoss (0.000408)\tAccuracy (0.999968)\n",
            "Epoch: 30\tBatch time (0.139686)\tData time (0.003126)\tCuda time (0.000001)\tLoss (0.000359)\tAccuracy (0.999987)\n",
            "True\n",
            "True\n",
            "True\n",
            "True\n",
            "{'loss': 0.08943635113537311, 'accuracy': 0.8736760646104813, 'perfect_match_accuracy': 0.416, 'cost_ratio_suggested_true': 0.9987606936693192, 'below_10.0_percent_acc': 0.531, 'below_1.0_percent_acc': 0.456, 'below_0.1_percent_acc': 0.451, 'below_0.01_percent_acc': 0.451, 'below_0.001_percent_acc': 0.445, 'below_0.0001_percent_acc': 0.445, 'valid_acc': 0.547}\n",
            "\u001b[0m"
          ]
        }
      ],
      "source": [
        "!python main.py settings/warcraft_shortest_path/12x12_baseline.json"
      ]
    },
    {
      "cell_type": "code",
      "execution_count": null,
      "metadata": {},
      "outputs": [],
      "source": []
    }
  ],
  "metadata": {
    "accelerator": "GPU",
    "colab": {
      "gpuType": "T4",
      "provenance": [],
      "toc_visible": true
    },
    "gpuClass": "standard",
    "kernelspec": {
      "display_name": "plan_proj",
      "language": "python",
      "name": "python3"
    },
    "language_info": {
      "codemirror_mode": {
        "name": "ipython",
        "version": 3
      },
      "file_extension": ".py",
      "mimetype": "text/x-python",
      "name": "python",
      "nbconvert_exporter": "python",
      "pygments_lexer": "ipython3",
      "version": "3.8.16"
    },
    "vscode": {
      "interpreter": {
        "hash": "2cc23253ae4c240356024d0952134c665abe4e8b19fc56f719a33e6b31ca896f"
      }
    }
  },
  "nbformat": 4,
  "nbformat_minor": 0
}
